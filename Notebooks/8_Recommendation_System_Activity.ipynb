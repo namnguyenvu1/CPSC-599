{
  "cells": [
    {
      "cell_type": "markdown",
      "metadata": {
        "id": "AQsQxL12u_a2"
      },
      "source": [
        "# **Recommendation System Challenge**\n",
        "\n",
        "Each side of the class will be assigned recommender systems with different specifications. There is no information about how users feel about songs, but it is assumed they like the songs if they are a part of their playlists."
      ]
    },
    {
      "cell_type": "markdown",
      "metadata": {
        "id": "8HD6IRZQwMMh"
      },
      "source": [
        "Step 1. I have provided a portion of the Million Songs Dataset (the part that is publicly available without restricted licencing).\n",
        "\n",
        "First, that lyrics of ~7000 songs were scraped using Lyric Genius and the subset of the 1 Milion Songs dataset was subset to only songs that lyrics were scraped for. The final dataset has been provided on D2L.\n",
        "\n",
        "Upload the dataset you will need for your recommendation system."
      ]
    },
    {
      "cell_type": "code",
      "source": [
        "import pandas as pd\n",
        "\n",
        "data = pd.read_csv(\"song_playlists.csv\", header=0)\n",
        "data.head()"
      ],
      "metadata": {
        "id": "fefvZgmYGX34",
        "colab": {
          "base_uri": "https://localhost:8080/",
          "height": 365
        },
        "outputId": "27b6d141-ba74-42ce-8ebf-5b14abc35e94"
      },
      "execution_count": 2,
      "outputs": [
        {
          "output_type": "execute_result",
          "data": {
            "text/plain": [
              "   pid                             track_uri      track_name  \\\n",
              "0    0  spotify:track:6I9VzXrHxO9rA9A5euc8Ak           Toxic   \n",
              "1    0  spotify:track:0WqIKmW4BTrj3eJFmnCKMv   Crazy In Love   \n",
              "2    0  spotify:track:1AWQoqb9bSvzTjaLralEkT  Rock Your Body   \n",
              "3    0  spotify:track:1lzr43nnXAijIGYnCT8M8H    It Wasn't Me   \n",
              "4    0  spotify:track:0XUfyU2QviPAs6bxSpXYG4           Yeah!   \n",
              "\n",
              "         artist_name                                    album_name  \\\n",
              "0     Britney Spears                                   In The Zone   \n",
              "1            Beyoncé  Dangerously In Love (Alben für die Ewigkeit)   \n",
              "2  Justin Timberlake                                     Justified   \n",
              "3             Shaggy                                      Hot Shot   \n",
              "4              Usher                                   Confessions   \n",
              "\n",
              "                                              lyrics  \n",
              "0  {'lyrics': \"TranslationsСрпскиPortuguêsToxic L...  \n",
              "1  {'lyrics': 'Crazy in Love Lyrics\\nYes! \\nSo cr...  \n",
              "2  {'lyrics': \"TranslationsJustin Timberlake - Ro...  \n",
              "3  {'lyrics': 'It Wasn’t Me Lyrics\\nYo, man\\nYo\\n...  \n",
              "4  {'lyrics': 'Yeah! Lyrics\\nPeace up, A-Town dow...  "
            ],
            "text/html": [
              "\n",
              "  <div id=\"df-22b50bec-cb7b-4d9f-9af9-a15ef4a3c950\" class=\"colab-df-container\">\n",
              "    <div>\n",
              "<style scoped>\n",
              "    .dataframe tbody tr th:only-of-type {\n",
              "        vertical-align: middle;\n",
              "    }\n",
              "\n",
              "    .dataframe tbody tr th {\n",
              "        vertical-align: top;\n",
              "    }\n",
              "\n",
              "    .dataframe thead th {\n",
              "        text-align: right;\n",
              "    }\n",
              "</style>\n",
              "<table border=\"1\" class=\"dataframe\">\n",
              "  <thead>\n",
              "    <tr style=\"text-align: right;\">\n",
              "      <th></th>\n",
              "      <th>pid</th>\n",
              "      <th>track_uri</th>\n",
              "      <th>track_name</th>\n",
              "      <th>artist_name</th>\n",
              "      <th>album_name</th>\n",
              "      <th>lyrics</th>\n",
              "    </tr>\n",
              "  </thead>\n",
              "  <tbody>\n",
              "    <tr>\n",
              "      <th>0</th>\n",
              "      <td>0</td>\n",
              "      <td>spotify:track:6I9VzXrHxO9rA9A5euc8Ak</td>\n",
              "      <td>Toxic</td>\n",
              "      <td>Britney Spears</td>\n",
              "      <td>In The Zone</td>\n",
              "      <td>{'lyrics': \"TranslationsСрпскиPortuguêsToxic L...</td>\n",
              "    </tr>\n",
              "    <tr>\n",
              "      <th>1</th>\n",
              "      <td>0</td>\n",
              "      <td>spotify:track:0WqIKmW4BTrj3eJFmnCKMv</td>\n",
              "      <td>Crazy In Love</td>\n",
              "      <td>Beyoncé</td>\n",
              "      <td>Dangerously In Love (Alben für die Ewigkeit)</td>\n",
              "      <td>{'lyrics': 'Crazy in Love Lyrics\\nYes! \\nSo cr...</td>\n",
              "    </tr>\n",
              "    <tr>\n",
              "      <th>2</th>\n",
              "      <td>0</td>\n",
              "      <td>spotify:track:1AWQoqb9bSvzTjaLralEkT</td>\n",
              "      <td>Rock Your Body</td>\n",
              "      <td>Justin Timberlake</td>\n",
              "      <td>Justified</td>\n",
              "      <td>{'lyrics': \"TranslationsJustin Timberlake - Ro...</td>\n",
              "    </tr>\n",
              "    <tr>\n",
              "      <th>3</th>\n",
              "      <td>0</td>\n",
              "      <td>spotify:track:1lzr43nnXAijIGYnCT8M8H</td>\n",
              "      <td>It Wasn't Me</td>\n",
              "      <td>Shaggy</td>\n",
              "      <td>Hot Shot</td>\n",
              "      <td>{'lyrics': 'It Wasn’t Me Lyrics\\nYo, man\\nYo\\n...</td>\n",
              "    </tr>\n",
              "    <tr>\n",
              "      <th>4</th>\n",
              "      <td>0</td>\n",
              "      <td>spotify:track:0XUfyU2QviPAs6bxSpXYG4</td>\n",
              "      <td>Yeah!</td>\n",
              "      <td>Usher</td>\n",
              "      <td>Confessions</td>\n",
              "      <td>{'lyrics': 'Yeah! Lyrics\\nPeace up, A-Town dow...</td>\n",
              "    </tr>\n",
              "  </tbody>\n",
              "</table>\n",
              "</div>\n",
              "    <div class=\"colab-df-buttons\">\n",
              "\n",
              "  <div class=\"colab-df-container\">\n",
              "    <button class=\"colab-df-convert\" onclick=\"convertToInteractive('df-22b50bec-cb7b-4d9f-9af9-a15ef4a3c950')\"\n",
              "            title=\"Convert this dataframe to an interactive table.\"\n",
              "            style=\"display:none;\">\n",
              "\n",
              "  <svg xmlns=\"http://www.w3.org/2000/svg\" height=\"24px\" viewBox=\"0 -960 960 960\">\n",
              "    <path d=\"M120-120v-720h720v720H120Zm60-500h600v-160H180v160Zm220 220h160v-160H400v160Zm0 220h160v-160H400v160ZM180-400h160v-160H180v160Zm440 0h160v-160H620v160ZM180-180h160v-160H180v160Zm440 0h160v-160H620v160Z\"/>\n",
              "  </svg>\n",
              "    </button>\n",
              "\n",
              "  <style>\n",
              "    .colab-df-container {\n",
              "      display:flex;\n",
              "      gap: 12px;\n",
              "    }\n",
              "\n",
              "    .colab-df-convert {\n",
              "      background-color: #E8F0FE;\n",
              "      border: none;\n",
              "      border-radius: 50%;\n",
              "      cursor: pointer;\n",
              "      display: none;\n",
              "      fill: #1967D2;\n",
              "      height: 32px;\n",
              "      padding: 0 0 0 0;\n",
              "      width: 32px;\n",
              "    }\n",
              "\n",
              "    .colab-df-convert:hover {\n",
              "      background-color: #E2EBFA;\n",
              "      box-shadow: 0px 1px 2px rgba(60, 64, 67, 0.3), 0px 1px 3px 1px rgba(60, 64, 67, 0.15);\n",
              "      fill: #174EA6;\n",
              "    }\n",
              "\n",
              "    .colab-df-buttons div {\n",
              "      margin-bottom: 4px;\n",
              "    }\n",
              "\n",
              "    [theme=dark] .colab-df-convert {\n",
              "      background-color: #3B4455;\n",
              "      fill: #D2E3FC;\n",
              "    }\n",
              "\n",
              "    [theme=dark] .colab-df-convert:hover {\n",
              "      background-color: #434B5C;\n",
              "      box-shadow: 0px 1px 3px 1px rgba(0, 0, 0, 0.15);\n",
              "      filter: drop-shadow(0px 1px 2px rgba(0, 0, 0, 0.3));\n",
              "      fill: #FFFFFF;\n",
              "    }\n",
              "  </style>\n",
              "\n",
              "    <script>\n",
              "      const buttonEl =\n",
              "        document.querySelector('#df-22b50bec-cb7b-4d9f-9af9-a15ef4a3c950 button.colab-df-convert');\n",
              "      buttonEl.style.display =\n",
              "        google.colab.kernel.accessAllowed ? 'block' : 'none';\n",
              "\n",
              "      async function convertToInteractive(key) {\n",
              "        const element = document.querySelector('#df-22b50bec-cb7b-4d9f-9af9-a15ef4a3c950');\n",
              "        const dataTable =\n",
              "          await google.colab.kernel.invokeFunction('convertToInteractive',\n",
              "                                                    [key], {});\n",
              "        if (!dataTable) return;\n",
              "\n",
              "        const docLinkHtml = 'Like what you see? Visit the ' +\n",
              "          '<a target=\"_blank\" href=https://colab.research.google.com/notebooks/data_table.ipynb>data table notebook</a>'\n",
              "          + ' to learn more about interactive tables.';\n",
              "        element.innerHTML = '';\n",
              "        dataTable['output_type'] = 'display_data';\n",
              "        await google.colab.output.renderOutput(dataTable, element);\n",
              "        const docLink = document.createElement('div');\n",
              "        docLink.innerHTML = docLinkHtml;\n",
              "        element.appendChild(docLink);\n",
              "      }\n",
              "    </script>\n",
              "  </div>\n",
              "\n",
              "\n",
              "<div id=\"df-cc535dd9-7855-4e9d-b5b2-b98ec39e264d\">\n",
              "  <button class=\"colab-df-quickchart\" onclick=\"quickchart('df-cc535dd9-7855-4e9d-b5b2-b98ec39e264d')\"\n",
              "            title=\"Suggest charts\"\n",
              "            style=\"display:none;\">\n",
              "\n",
              "<svg xmlns=\"http://www.w3.org/2000/svg\" height=\"24px\"viewBox=\"0 0 24 24\"\n",
              "     width=\"24px\">\n",
              "    <g>\n",
              "        <path d=\"M19 3H5c-1.1 0-2 .9-2 2v14c0 1.1.9 2 2 2h14c1.1 0 2-.9 2-2V5c0-1.1-.9-2-2-2zM9 17H7v-7h2v7zm4 0h-2V7h2v10zm4 0h-2v-4h2v4z\"/>\n",
              "    </g>\n",
              "</svg>\n",
              "  </button>\n",
              "\n",
              "<style>\n",
              "  .colab-df-quickchart {\n",
              "      --bg-color: #E8F0FE;\n",
              "      --fill-color: #1967D2;\n",
              "      --hover-bg-color: #E2EBFA;\n",
              "      --hover-fill-color: #174EA6;\n",
              "      --disabled-fill-color: #AAA;\n",
              "      --disabled-bg-color: #DDD;\n",
              "  }\n",
              "\n",
              "  [theme=dark] .colab-df-quickchart {\n",
              "      --bg-color: #3B4455;\n",
              "      --fill-color: #D2E3FC;\n",
              "      --hover-bg-color: #434B5C;\n",
              "      --hover-fill-color: #FFFFFF;\n",
              "      --disabled-bg-color: #3B4455;\n",
              "      --disabled-fill-color: #666;\n",
              "  }\n",
              "\n",
              "  .colab-df-quickchart {\n",
              "    background-color: var(--bg-color);\n",
              "    border: none;\n",
              "    border-radius: 50%;\n",
              "    cursor: pointer;\n",
              "    display: none;\n",
              "    fill: var(--fill-color);\n",
              "    height: 32px;\n",
              "    padding: 0;\n",
              "    width: 32px;\n",
              "  }\n",
              "\n",
              "  .colab-df-quickchart:hover {\n",
              "    background-color: var(--hover-bg-color);\n",
              "    box-shadow: 0 1px 2px rgba(60, 64, 67, 0.3), 0 1px 3px 1px rgba(60, 64, 67, 0.15);\n",
              "    fill: var(--button-hover-fill-color);\n",
              "  }\n",
              "\n",
              "  .colab-df-quickchart-complete:disabled,\n",
              "  .colab-df-quickchart-complete:disabled:hover {\n",
              "    background-color: var(--disabled-bg-color);\n",
              "    fill: var(--disabled-fill-color);\n",
              "    box-shadow: none;\n",
              "  }\n",
              "\n",
              "  .colab-df-spinner {\n",
              "    border: 2px solid var(--fill-color);\n",
              "    border-color: transparent;\n",
              "    border-bottom-color: var(--fill-color);\n",
              "    animation:\n",
              "      spin 1s steps(1) infinite;\n",
              "  }\n",
              "\n",
              "  @keyframes spin {\n",
              "    0% {\n",
              "      border-color: transparent;\n",
              "      border-bottom-color: var(--fill-color);\n",
              "      border-left-color: var(--fill-color);\n",
              "    }\n",
              "    20% {\n",
              "      border-color: transparent;\n",
              "      border-left-color: var(--fill-color);\n",
              "      border-top-color: var(--fill-color);\n",
              "    }\n",
              "    30% {\n",
              "      border-color: transparent;\n",
              "      border-left-color: var(--fill-color);\n",
              "      border-top-color: var(--fill-color);\n",
              "      border-right-color: var(--fill-color);\n",
              "    }\n",
              "    40% {\n",
              "      border-color: transparent;\n",
              "      border-right-color: var(--fill-color);\n",
              "      border-top-color: var(--fill-color);\n",
              "    }\n",
              "    60% {\n",
              "      border-color: transparent;\n",
              "      border-right-color: var(--fill-color);\n",
              "    }\n",
              "    80% {\n",
              "      border-color: transparent;\n",
              "      border-right-color: var(--fill-color);\n",
              "      border-bottom-color: var(--fill-color);\n",
              "    }\n",
              "    90% {\n",
              "      border-color: transparent;\n",
              "      border-bottom-color: var(--fill-color);\n",
              "    }\n",
              "  }\n",
              "</style>\n",
              "\n",
              "  <script>\n",
              "    async function quickchart(key) {\n",
              "      const quickchartButtonEl =\n",
              "        document.querySelector('#' + key + ' button');\n",
              "      quickchartButtonEl.disabled = true;  // To prevent multiple clicks.\n",
              "      quickchartButtonEl.classList.add('colab-df-spinner');\n",
              "      try {\n",
              "        const charts = await google.colab.kernel.invokeFunction(\n",
              "            'suggestCharts', [key], {});\n",
              "      } catch (error) {\n",
              "        console.error('Error during call to suggestCharts:', error);\n",
              "      }\n",
              "      quickchartButtonEl.classList.remove('colab-df-spinner');\n",
              "      quickchartButtonEl.classList.add('colab-df-quickchart-complete');\n",
              "    }\n",
              "    (() => {\n",
              "      let quickchartButtonEl =\n",
              "        document.querySelector('#df-cc535dd9-7855-4e9d-b5b2-b98ec39e264d button');\n",
              "      quickchartButtonEl.style.display =\n",
              "        google.colab.kernel.accessAllowed ? 'block' : 'none';\n",
              "    })();\n",
              "  </script>\n",
              "</div>\n",
              "\n",
              "    </div>\n",
              "  </div>\n"
            ],
            "application/vnd.google.colaboratory.intrinsic+json": {
              "type": "dataframe",
              "variable_name": "data",
              "summary": "{\n  \"name\": \"data\",\n  \"rows\": 29467,\n  \"fields\": [\n    {\n      \"column\": \"pid\",\n      \"properties\": {\n        \"dtype\": \"number\",\n        \"std\": 286,\n        \"min\": 0,\n        \"max\": 999,\n        \"num_unique_values\": 1000,\n        \"samples\": [\n          521,\n          737,\n          740\n        ],\n        \"semantic_type\": \"\",\n        \"description\": \"\"\n      }\n    },\n    {\n      \"column\": \"track_uri\",\n      \"properties\": {\n        \"dtype\": \"category\",\n        \"num_unique_values\": 7559,\n        \"samples\": [\n          \"spotify:track:25SSf8YWZxkVojjwIABRFP\",\n          \"spotify:track:5RGf8qn1TBWVplLyyKUsuV\",\n          \"spotify:track:7MTIDmToGs0I5Oue9V0CHl\"\n        ],\n        \"semantic_type\": \"\",\n        \"description\": \"\"\n      }\n    },\n    {\n      \"column\": \"track_name\",\n      \"properties\": {\n        \"dtype\": \"category\",\n        \"num_unique_values\": 7072,\n        \"samples\": [\n          \"Piensas en M\\u00ed\",\n          \"Human Touch\",\n          \"Yours If You Want It\"\n        ],\n        \"semantic_type\": \"\",\n        \"description\": \"\"\n      }\n    },\n    {\n      \"column\": \"artist_name\",\n      \"properties\": {\n        \"dtype\": \"category\",\n        \"num_unique_values\": 3011,\n        \"samples\": [\n          \"The Jackson 5\",\n          \"Shane & Shane\",\n          \"Marc E. Bassy\"\n        ],\n        \"semantic_type\": \"\",\n        \"description\": \"\"\n      }\n    },\n    {\n      \"column\": \"album_name\",\n      \"properties\": {\n        \"dtype\": \"category\",\n        \"num_unique_values\": 4872,\n        \"samples\": [\n          \"Just Hold On\",\n          \"PARTYNEXTDOOR 3 (P3)\",\n          \"I Told You I Was Freaky\"\n        ],\n        \"semantic_type\": \"\",\n        \"description\": \"\"\n      }\n    },\n    {\n      \"column\": \"lyrics\",\n      \"properties\": {\n        \"dtype\": \"category\",\n        \"num_unique_values\": 6636,\n        \"samples\": [\n          \"{'lyrics': 'Runnin\\u2019  Lyrics\\\\nBetween you and Biggie it was like, who\\\\'s gon\\u2019\\u2014who\\u2019s gon\\u2019\\u2014 who rules the nigga kingdom and shit, basically, you know what I\\\\'m saying? I was like, this is like a fucking\\\\nIt is that\\\\nElection. It\\u2019s an election and shit\\\\nIt is that\\\\nYou know what I am saying?\\\\nMe and Biggie\\\\'s situation is smaller than that. Me and Biggie\\u2019s situation is like\\u2026\\\\nYou know, I wonder if they\\\\'ll laugh when I\\\\'m dead\\\\nWhy am I fighting to live if I\\\\'m just living to fight?\\\\nWhy am I trying to see when there ain\\\\'t nothing in sight?\\\\nWhy am I trying to give when no one gives me a try?\\\\nWhy am I dying to live if I\\\\'m just living to die?\\\\nCheck it, I grew up a fuckin\\\\' screw-up\\\\nGot introduced to the game, got a ounce and fuckin\\\\' blew up\\\\nChoppin\\\\' rocks overnight\\\\nThe nigga Biggie Smalls tryna turn into the black Frank White\\\\nWe had to grow dreads to change our description\\\\nTwo cops is on the milk box missin\\\\'\\\\nShow they toes, you know they got stepped on\\\\nA fistful of bullets, a chest full of Teflon\\\\nRun from the police, picture that\\\\nNigga, I\\\\'m too fat, I fuck around and catch a asthma attack\\\\nThat\\\\'s why I bust back, it don\\\\'t faze me\\\\nWhen he drop, take his Glock and I\\\\'m Swayze\\\\nCelebrate my escape, sold the Glock, bought some weight\\\\nLay back, I got some money to make, motherfucker\\\\nYou know, I wonder if they\\\\'ll laugh when I\\\\'m dead\\\\nWhy am I fighting to live if I\\\\'m just living to fight?\\\\nWhy am I trying to see when there ain\\\\'t nothing in sight?\\\\nWhy am I trying to give when no one gives me a try?\\\\nWhy am I dying to live if I\\\\'m just living to die?\\\\nBut still I\\\\'m havin\\\\' memories of high speed when the cops crashed\\\\nAs I laugh, pushin\\\\' the gas while my Glocks blast\\\\nWe was young and we was dumb, but we had heart\\\\nIn the dark, will we survive through the bad parts?\\\\nMany dreams is what I had, and plenty wishes\\\\nNo hesitation in extermination of these snitches\\\\nEnvious bitches, they still continue to pursue me\\\\nA couple of movies, now the whole world\\\\'s tryna screw me\\\\nEven the cops tried to sue me, so what can I do?\\\\nBut stay true, sippin\\\\' 22\\\\'s of brew\\\\nAnd now media is tryna test me\\\\nGot the press askin\\\\' questions, tryna stress me\\\\nMisery is all I see, that\\\\'s my mind state\\\\nMy history with the police will shake the crime rate\\\\nMy main man had two strikes, slipped, got arrested, and flipped\\\\nHe screamed \\\"Thug Life!\\\" and emptied the clip\\\\nGot tired of runnin\\\\' from the police\\\\nYou might also like\\\\nYou know, I wonder if they\\\\'ll laugh when I\\\\'m dead\\\\nWhy am I fighting to live if I\\\\'m just living to fight?\\\\nWhy am I trying to see when there ain\\\\'t nothing in sight?\\\\nWhy am I trying to give when no one gives me a try?\\\\nWhy am I dying to live if I\\\\'m just living to die?\\\\nThey wanted a new regime. And my regime includes East coast, includes West coast\\\\nI was more shocked than anything\\\\nYou know what I\\\\'m sayin\\\\'?\\\\nBut I wasn\\\\'t more shocked of him dying\\\\nI was more shocked of him\\u2026 Pac is a strong dude, yo\\\\nI know dude, you know what I\\\\'m sayin\\\\'? Real strong\\\\nSo when they was like he got shot, I was just more like, \\\"Again?\\\" you know what I\\\\'m sayin\\\\'?\\\\nHe always getting shot, or shot at\\\\nHe going to pull through this one again\\\\nMake a few records about it, and it\\\\'s going to be over\\\\nYou know what I\\\\'m sayin\\\\'?\\\\nBut when he, when he died, I was just like, \\\"whoa\\\", you know what I\\\\'m saying? Kinda took me by\\\\nI mean, even though we was going through our drama\\\\nI would never wish death on nobody\\\\nYou know what I\\\\'m sayin\\\\'?\\\\nBecause there ain\\\\'t no coming back from that91Embed'}\",\n          \"{'lyrics': \\\"Ricochet Lyrics\\\\nAnd we were bold\\\\nOver the world\\\\nWe were flying through the satellites\\\\nWe had ahold\\\\nOf the lightning strikes\\\\nWhen we should have been afraid of heights\\\\nAnd I was trying just to get you\\\\nAnd now I'm dying to forget you\\\\n'Cause I knew I couldn't catch you\\\\nSo I left the sky\\\\nAnd I fell behind\\\\nWe were one and the same\\\\nRunning like moths to the flame\\\\nYou'd hang on every word I'd say\\\\nBut now they only ricochet \\\\nWe were falling away\\\\nYou left me with a bittersweet taste\\\\nBut when I send my heart your way\\\\nIt bounces off the walls you made\\\\nRicochet\\\\nIf I was whole\\\\nI'd turn right now\\\\nI'd forget it and just walk away\\\\n'Cause I've been told\\\\nThat I'm dragging it out\\\\nBut I've been dying just to see your face\\\\nAnd all I wanted was to say goodbye\\\\nInto the fortress that you're stuck behind\\\\nAnd in the silence now I realize\\\\nThat after all\\\\nI built the wall\\\\nWe were one and the same\\\\nRunning like moths to the flame\\\\nYou'd hang on every word I'd say\\\\nBut now they only ricochet \\\\nYou were falling away\\\\nYou left me with a bittersweet taste\\\\nBut when I send my heart your way\\\\nIt bounces off the walls you made\\\\nRicochet\\\\nSee STARSET LiveGet tickets as low as $37You might also like\\\\nAll these broken souls\\\\nThey never make me whole\\\\nThey don't, they don't know my heart\\\\nThey don't know my heart\\\\nAll these broken souls\\\\nEach one more beautiful\\\\nThey don't, they don't know my heart\\\\nThey don't know my heart\\\\nI'll send out my soul\\\\nTo worlds more beautiful\\\\nThey won't, they won't know my heart\\\\nIt's the darkest part\\\\nWe were one and the same\\\\nRunning like moths to the flame\\\\nYou'd hang on every word I'd say\\\\nBut now they only ricochet \\\\nYou were falling away\\\\nYou left me with a bittersweet taste\\\\nBut when I send my heart your way\\\\nIt bounces off the walls you made\\\\nRicochet7Embed\\\"}\",\n          \"{'lyrics': 'Fool LyricsYour name is a triangle\\\\nYour heart is a square\\\\nI love to see you\\\\nWay over there\\\\nOnce I was happy\\\\nYou found it intriguing\\\\nThen you got to me\\\\nAnd left me waiting\\\\nYou make me feel like a fool waiting for you\\\\nYou make me feel like a fool waiting for you\\\\nI thought we could eat bread\\\\nI thought we could talk\\\\nOn darker days\\\\nWith our boots kicked off\\\\nYou look to me\\\\nAnd I look away\\\\nThough I had been looking\\\\nYou make me feel like a fool waiting for you\\\\nYou make me feel like a fool waiting for youYou might also like6Embed'}\"\n        ],\n        \"semantic_type\": \"\",\n        \"description\": \"\"\n      }\n    }\n  ]\n}"
            }
          },
          "metadata": {},
          "execution_count": 2
        }
      ]
    },
    {
      "cell_type": "code",
      "source": [
        "data.iloc[0].lyrics"
      ],
      "metadata": {
        "colab": {
          "base_uri": "https://localhost:8080/",
          "height": 243
        },
        "id": "CM9DDlxdxY5-",
        "outputId": "e941ae1c-e831-44e8-b392-de6eed1afd5c"
      },
      "execution_count": 3,
      "outputs": [
        {
          "output_type": "execute_result",
          "data": {
            "text/plain": [
              "'{\\'lyrics\\': \"TranslationsСрпскиPortuguêsToxic Lyrics\\\\nBaby, can\\'t you see I\\'m calling?\\\\nA guy like you should wear a warning\\\\nIt\\'s dangerous, I\\'m falling\\\\nThere\\'s no escape, I can\\'t wait\\\\nI need a hit, baby, give me it\\\\nYou\\'re dangerous, I\\'m lovin\\' it\\\\nToo high, can\\'t come down\\\\nLosing my head, spinnin\\' \\'round and \\'round\\\\nDo you feel me now?\\\\nWith a taste of your lips, I\\'m on a ride\\\\nYou\\'re toxic, I\\'m slippin\\' under\\\\nWith a taste of a poison paradise\\\\nI\\'m addicted to you\\\\nDon\\'t you know that you\\'re toxic?\\\\nAnd I love what you do\\\\nDon\\'t you know that you\\'re toxic?\\\\nIt\\'s getting late to give you up\\\\nI took a sip from my devil\\'s cup\\\\nSlowly, it\\'s taking over me\\\\nToo high, can\\'t come down\\\\nIt\\'s in the air and it\\'s all around\\\\nCan you feel me now?\\\\nWith a taste of your lips, I\\'m on a ride\\\\nYou\\'re toxic, I\\'m slippin\\' under\\\\nWith a taste of a poison paradise\\\\nI\\'m addicted to you\\\\nDon\\'t you know that you\\'re toxic?\\\\nAnd I love what you do\\\\nDon\\'t you know that you\\'re toxic?\\\\nDon\\'t you know that you\\'re toxic?\\\\nYou might also like\\\\nWith a taste of your lips, I\\'m on a ride\\\\nYou\\'re toxic, I\\'m slippin\\' under\\\\nWith a taste of a poison paradise\\\\nI\\'m addicted to you\\\\nDon\\'t you know that you\\'re toxic?\\\\nWith a taste of your lips, I\\'m on a ride\\\\nYou\\'re toxic, I\\'m slippin\\' under \\\\nWith a taste of a poison paradise\\\\nI\\'m addicted to you\\\\nDon\\'t you know that you\\'re toxic?\\\\nIntoxicate me now with your lovin\\' now\\\\nI think I\\'m ready now \\\\nIntoxicate me now with your lovin\\' now\\\\nI think I\\'m ready now237Embed\"}'"
            ],
            "application/vnd.google.colaboratory.intrinsic+json": {
              "type": "string"
            }
          },
          "metadata": {},
          "execution_count": 3
        }
      ]
    },
    {
      "cell_type": "code",
      "source": [
        "import matplotlib.pyplot as plt\n",
        "\n",
        "num_songs = data.groupby('pid').size()\n",
        "# create a bar plot\n",
        "plt.bar(num_songs.index, num_songs.values)\n",
        "\n",
        "# set the title and labels\n",
        "plt.title('Number of Songs per Playlist')\n",
        "plt.xlabel('PID')\n",
        "plt.ylabel('Number of Songs')\n",
        "\n",
        "plt.show()"
      ],
      "metadata": {
        "colab": {
          "base_uri": "https://localhost:8080/",
          "height": 472
        },
        "id": "9Wa2GmOLK-ql",
        "outputId": "20b47c9f-84f4-4022-c945-40251fdcad00"
      },
      "execution_count": 5,
      "outputs": [
        {
          "output_type": "display_data",
          "data": {
            "text/plain": [
              "<Figure size 640x480 with 1 Axes>"
            ],
            "image/png": "[encoded data removed]"
          },
          "metadata": {}
        }
      ]
    },
    {
      "cell_type": "markdown",
      "source": [
        "## **Option 1**"
      ],
      "metadata": {
        "id": "sQleV_6jDm_0"
      }
    },
    {
      "cell_type": "markdown",
      "source": [
        "1. **Create a user-item matrix:** Convert the user playlists into a binary user-item matrix, where each row represents a user and each column represents a song. A value of 1 in a cell indicates that the user has that song in their playlist.\n",
        "\n",
        "2. **Factorize the matrix:** Use matrix factorization to factorize the user-item matrix into two matrices: a user-factor matrix and an item-factor matrix. This is typically done using alternating least squares (ALS) or something else of your choice.\n",
        "\n",
        "3. **Calculate recommendations:** To calculate recommendations, multiply the user-factor matrix by the item-factor matrix to get a predicted user-item matrix. Sort the predicted ratings in descending order to get a list of recommended songs."
      ],
      "metadata": {
        "id": "5_Vzk5RzqY14"
      }
    },
    {
      "cell_type": "code",
      "source": [
        "!pip install implicit"
      ],
      "metadata": {
        "colab": {
          "base_uri": "https://localhost:8080/"
        },
        "id": "td9fJjh0NDU5",
        "outputId": "75c0bb66-1e80-404a-c457-4e7dd23b0a81"
      },
      "execution_count": 6,
      "outputs": [
        {
          "output_type": "stream",
          "name": "stdout",
          "text": [
            "Collecting implicit\n",
            "  Downloading implicit-0.7.2-cp310-cp310-manylinux2014_x86_64.whl (8.9 MB)\n",
            "\u001b[2K     \u001b[90m━━━━━━━━━━━━━━━━━━━━━━━━━━━━━━━━━━━━━━━━\u001b[0m \u001b[32m8.9/8.9 MB\u001b[0m \u001b[31m30.4 MB/s\u001b[0m eta \u001b[36m0:00:00\u001b[0m\n",
            "\u001b[?25hRequirement already satisfied: numpy>=1.17.0 in /usr/local/lib/python3.10/dist-packages (from implicit) (1.25.2)\n",
            "Requirement already satisfied: scipy>=0.16 in /usr/local/lib/python3.10/dist-packages (from implicit) (1.11.4)\n",
            "Requirement already satisfied: tqdm>=4.27 in /usr/local/lib/python3.10/dist-packages (from implicit) (4.66.2)\n",
            "Requirement already satisfied: threadpoolctl in /usr/local/lib/python3.10/dist-packages (from implicit) (3.3.0)\n",
            "Installing collected packages: implicit\n",
            "Successfully installed implicit-0.7.2\n"
          ]
        }
      ]
    },
    {
      "cell_type": "code",
      "source": [
        "import pandas as pd\n",
        "import numpy as np\n",
        "import implicit\n",
        "from scipy.sparse import csr_matrix\n",
        "\n",
        "# Create a new DataFrame with pid as the index and song_id as the columns\n",
        "pid_song_matrix = pd.pivot_table(data[['pid', 'track_name']], index='pid', columns='track_name', aggfunc=len, fill_value=0)\n",
        "\n",
        "# Convert the counts to binary values\n",
        "pid_song_matrix = (pid_song_matrix > 0).astype(int)\n",
        "\n",
        "# Convert the binary DataFrame to a sparse matrix\n"
      ],
      "metadata": {
        "id": "KfTPY63jQQKS"
      },
      "execution_count": null,
      "outputs": []
    },
    {
      "cell_type": "code",
      "source": [
        "# Train an ALS model using the sparse data to get the user-item matrix\n",
        "\n",
        "\n"
      ],
      "metadata": {
        "colab": {
          "base_uri": "https://localhost:8080/",
          "height": 49,
          "referenced_widgets": [
            "3cd49bfc88924d9e8c3276dcd073e551",
            "bde549cc13154181af9e9d4c6d52b238",
            "907025afc0924ffe8bed854571cd9bc3",
            "1b76a2efda3a4c7cb7740ceb3413513d",
            "35a201f074a04ad68a0f00f7bccf23b4",
            "b99d808d9e784ba4be24bb5ab90ed6e7",
            "694f6dc0c608458d9519aa61da78d1e5",
            "a073371119504999a44306816c1921e6",
            "c0e010c082fc4103ae33d4085a2c0498",
            "20c4d40b050743a79f07b8cc94eb5e0e",
            "3aa35cbdb5a343a4b252dee642599f2d"
          ]
        },
        "id": "fqgTsS3rRWeV",
        "outputId": "a3947431-586c-4153-8fed-9ee111a8d9b2"
      },
      "execution_count": null,
      "outputs": [
        {
          "output_type": "display_data",
          "data": {
            "text/plain": [
              "  0%|          | 0/10 [00:00<?, ?it/s]"
            ],
            "application/vnd.jupyter.widget-view+json": {
              "version_major": 2,
              "version_minor": 0,
              "model_id": "3cd49bfc88924d9e8c3276dcd073e551"
            }
          },
          "metadata": {}
        }
      ]
    },
    {
      "cell_type": "code",
      "source": [
        "def get_recommendations(user_id, model, user_item_matrix, num_recommendations):\n",
        "    # Get the user's item interactions from the user-item matrix\n",
        "\n",
        "    # Get the model's item factors and calculate the scores for the user using dot product\n",
        "    item_factors = model.item_factors\n",
        "\n",
        "\n",
        "    # Sort the scores and get the top recommendations\n",
        "\n",
        "\n",
        "    # Convert the item indices to item names and return the recommendations\n",
        "\n",
        "    #return recommendations\n",
        "\n",
        "\n",
        "# Example usage:\n",
        "user_id = 1\n",
        "num_recommendations = 10\n",
        "recommended_songs = get_recommendations(user_id, model, user_item_matrix, num_recommendations)\n",
        "print(recommended_songs[:num_recommendations])\n"
      ],
      "metadata": {
        "id": "4TGDL-ba_Yuq",
        "colab": {
          "base_uri": "https://localhost:8080/"
        },
        "outputId": "209d725e-aa91-43b5-d05d-f6c21c649e5d"
      },
      "execution_count": null,
      "outputs": [
        {
          "output_type": "stream",
          "name": "stdout",
          "text": [
            "['Bohemian Rhapsody - Remastered 2011', 'Carry on Wayward Son', 'Sweet Home Alabama', \"Sweet Child O' Mine\", 'More Than a Feeling', 'Another One Bites The Dust - Remastered 2011', 'Brown Eyed Girl', 'Hotel California - Remastered', 'Paradise City', 'Sweet Emotion']\n"
          ]
        }
      ]
    },
    {
      "cell_type": "markdown",
      "source": [
        "## **Option 2**"
      ],
      "metadata": {
        "id": "6NMxLMGLUSN5"
      }
    },
    {
      "cell_type": "markdown",
      "source": [
        "Using content-based filtering with song lyrics, create a recommendation system to recommend a number of songs to a user.\n",
        "\n",
        "1. Determine the way you want to represent the lyrics text.\n",
        "2. Determine the similarity measure you want to apply.\n",
        "3. Create a similarity matrix by calculating similarity between song lyrics.\n",
        "4. Recommend the top n songs to users based on lyric similarity measure."
      ],
      "metadata": {
        "id": "DPylqs9qqihI"
      }
    },
    {
      "cell_type": "code",
      "source": [
        "import re\n",
        "\n",
        "# Since you may be tired of preprocessing text at this point, here is a basic function to help with that if you need\n",
        "def preprocess_lyric(lyric):\n",
        "    # Replace '\\\\n' with a space\n",
        "    lyric = lyric.replace('\\\\n', ' ')\n",
        "\n",
        "    # Remove unnecessary characters and special characters\n",
        "    lyric = re.sub(r'[^\\w\\s]', ' ', lyric)\n",
        "    lyric = re.sub(r'\\s+', ' ', lyric)\n",
        "    lyric = lyric.lower()\n",
        "\n",
        "    # Remove words containing non-alphabetic characters\n",
        "    lyric = ' '.join(word for word in lyric.split() if word.isalpha())\n",
        "\n",
        "    return lyric.strip()\n",
        "\n",
        "# Apply the preprocess_lyric() function to the 'lyrics' column\n",
        "data['lyrics'] = data['lyrics'].apply(preprocess_lyric)\n"
      ],
      "metadata": {
        "id": "R5qbEe1jiK-q"
      },
      "execution_count": null,
      "outputs": []
    },
    {
      "cell_type": "code",
      "source": [
        "# Define a vectorizer to represent and normalize the lyrics\n",
        "\n",
        "\n",
        "# Fit the vectorizer to the lyrics data and transform the lyrics into a sparse matrix\n"
      ],
      "metadata": {
        "id": "kuHZMcF7_v0_"
      },
      "execution_count": null,
      "outputs": []
    },
    {
      "cell_type": "code",
      "source": [
        "# Compute the pairwise similarities between the lyrics\n"
      ],
      "metadata": {
        "id": "ZgjtIgF-zhtV"
      },
      "execution_count": null,
      "outputs": []
    },
    {
      "cell_type": "code",
      "source": [
        "# Define a function to get recommendations for a given user\n",
        "def get_recommendations(user_id, cosine_similarities, data, num_recommendations):\n",
        "    # Get the indices of the most similar users to the given user\n",
        "\n",
        "\n",
        "    # Get the song titles and artist of the most recommended songs from similar users\n",
        "\n",
        "\n",
        "    #return recommended_songs\n",
        "\n",
        "# Example usage:\n",
        "user_id = 1\n",
        "num_recommendations = 10\n",
        "recommended_songs = get_recommendations(user_id, cosine_similarities, data, num_recommendations)\n",
        "print(recommended_songs)"
      ],
      "metadata": {
        "colab": {
          "base_uri": "https://localhost:8080/"
        },
        "id": "lJ8eF_nJy3cU",
        "outputId": "3f6c43ac-c855-485a-f6f5-aa39171f93d0"
      },
      "execution_count": null,
      "outputs": [
        {
          "output_type": "stream",
          "name": "stdout",
          "text": [
            "[('Explosions', 'Ellie Goulding'), ('Locked Out Of Heaven', 'Bruno Mars'), ('Dark Horse', 'Katy Perry'), ('Applause', 'Lady Gaga'), ('#thatPOWER', 'will.i.am'), ('Anaconda', 'Nicki Minaj'), ('Dance (A$$)', 'Big Sean'), ('The Next Episode', 'Dr. Dre'), ('Ms. Jackson', 'OutKast'), (\"I'm a Thug\", 'Trick Daddy')]\n"
          ]
        }
      ]
    },
    {
      "cell_type": "markdown",
      "source": [
        "With your group, brainstorm some ideas of how the system could be improved."
      ],
      "metadata": {
        "id": "_eCoGTiYb5D4"
      }
    }
  ],
  "metadata": {
    "colab": {
      "provenance": []
    },
    "kernelspec": {
      "display_name": "Python 3",
      "name": "python3"
    },
    "language_info": {
      "name": "python"
    },
    "widgets": {
      "application/vnd.jupyter.widget-state+json": {
        "3cd49bfc88924d9e8c3276dcd073e551": {
          "model_module": "@jupyter-widgets/controls",
          "model_name": "HBoxModel",
          "model_module_version": "1.5.0",
          "state": {
            "_dom_classes": [],
            "_model_module": "@jupyter-widgets/controls",
            "_model_module_version": "1.5.0",
            "_model_name": "HBoxModel",
            "_view_count": null,
            "_view_module": "@jupyter-widgets/controls",
            "_view_module_version": "1.5.0",
            "_view_name": "HBoxView",
            "box_style": "",
            "children": [
              "IPY_MODEL_bde549cc13154181af9e9d4c6d52b238",
              "IPY_MODEL_907025afc0924ffe8bed854571cd9bc3",
              "IPY_MODEL_1b76a2efda3a4c7cb7740ceb3413513d"
            ],
            "layout": "IPY_MODEL_35a201f074a04ad68a0f00f7bccf23b4"
          }
        },
        "bde549cc13154181af9e9d4c6d52b238": {
          "model_module": "@jupyter-widgets/controls",
          "model_name": "HTMLModel",
          "model_module_version": "1.5.0",
          "state": {
            "_dom_classes": [],
            "_model_module": "@jupyter-widgets/controls",
            "_model_module_version": "1.5.0",
            "_model_name": "HTMLModel",
            "_view_count": null,
            "_view_module": "@jupyter-widgets/controls",
            "_view_module_version": "1.5.0",
            "_view_name": "HTMLView",
            "description": "",
            "description_tooltip": null,
            "layout": "IPY_MODEL_b99d808d9e784ba4be24bb5ab90ed6e7",
            "placeholder": "​",
            "style": "IPY_MODEL_694f6dc0c608458d9519aa61da78d1e5",
            "value": " 90%"
          }
        },
        "907025afc0924ffe8bed854571cd9bc3": {
          "model_module": "@jupyter-widgets/controls",
          "model_name": "FloatProgressModel",
          "model_module_version": "1.5.0",
          "state": {
            "_dom_classes": [],
            "_model_module": "@jupyter-widgets/controls",
            "_model_module_version": "1.5.0",
            "_model_name": "FloatProgressModel",
            "_view_count": null,
            "_view_module": "@jupyter-widgets/controls",
            "_view_module_version": "1.5.0",
            "_view_name": "ProgressView",
            "bar_style": "",
            "description": "",
            "description_tooltip": null,
            "layout": "IPY_MODEL_a073371119504999a44306816c1921e6",
            "max": 10,
            "min": 0,
            "orientation": "horizontal",
            "style": "IPY_MODEL_c0e010c082fc4103ae33d4085a2c0498",
            "value": 9
          }
        },
        "1b76a2efda3a4c7cb7740ceb3413513d": {
          "model_module": "@jupyter-widgets/controls",
          "model_name": "HTMLModel",
          "model_module_version": "1.5.0",
          "state": {
            "_dom_classes": [],
            "_model_module": "@jupyter-widgets/controls",
            "_model_module_version": "1.5.0",
            "_model_name": "HTMLModel",
            "_view_count": null,
            "_view_module": "@jupyter-widgets/controls",
            "_view_module_version": "1.5.0",
            "_view_name": "HTMLView",
            "description": "",
            "description_tooltip": null,
            "layout": "IPY_MODEL_20c4d40b050743a79f07b8cc94eb5e0e",
            "placeholder": "​",
            "style": "IPY_MODEL_3aa35cbdb5a343a4b252dee642599f2d",
            "value": " 9/10 [00:10&lt;00:01,  1.03s/it]"
          }
        },
        "35a201f074a04ad68a0f00f7bccf23b4": {
          "model_module": "@jupyter-widgets/base",
          "model_name": "LayoutModel",
          "model_module_version": "1.2.0",
          "state": {
            "_model_module": "@jupyter-widgets/base",
            "_model_module_version": "1.2.0",
            "_model_name": "LayoutModel",
            "_view_count": null,
            "_view_module": "@jupyter-widgets/base",
            "_view_module_version": "1.2.0",
            "_view_name": "LayoutView",
            "align_content": null,
            "align_items": null,
            "align_self": null,
            "border": null,
            "bottom": null,
            "display": null,
            "flex": null,
            "flex_flow": null,
            "grid_area": null,
            "grid_auto_columns": null,
            "grid_auto_flow": null,
            "grid_auto_rows": null,
            "grid_column": null,
            "grid_gap": null,
            "grid_row": null,
            "grid_template_areas": null,
            "grid_template_columns": null,
            "grid_template_rows": null,
            "height": null,
            "justify_content": null,
            "justify_items": null,
            "left": null,
            "margin": null,
            "max_height": null,
            "max_width": null,
            "min_height": null,
            "min_width": null,
            "object_fit": null,
            "object_position": null,
            "order": null,
            "overflow": null,
            "overflow_x": null,
            "overflow_y": null,
            "padding": null,
            "right": null,
            "top": null,
            "visibility": null,
            "width": null
          }
        },
        "b99d808d9e784ba4be24bb5ab90ed6e7": {
          "model_module": "@jupyter-widgets/base",
          "model_name": "LayoutModel",
          "model_module_version": "1.2.0",
          "state": {
            "_model_module": "@jupyter-widgets/base",
            "_model_module_version": "1.2.0",
            "_model_name": "LayoutModel",
            "_view_count": null,
            "_view_module": "@jupyter-widgets/base",
            "_view_module_version": "1.2.0",
            "_view_name": "LayoutView",
            "align_content": null,
            "align_items": null,
            "align_self": null,
            "border": null,
            "bottom": null,
            "display": null,
            "flex": null,
            "flex_flow": null,
            "grid_area": null,
            "grid_auto_columns": null,
            "grid_auto_flow": null,
            "grid_auto_rows": null,
            "grid_column": null,
            "grid_gap": null,
            "grid_row": null,
            "grid_template_areas": null,
            "grid_template_columns": null,
            "grid_template_rows": null,
            "height": null,
            "justify_content": null,
            "justify_items": null,
            "left": null,
            "margin": null,
            "max_height": null,
            "max_width": null,
            "min_height": null,
            "min_width": null,
            "object_fit": null,
            "object_position": null,
            "order": null,
            "overflow": null,
            "overflow_x": null,
            "overflow_y": null,
            "padding": null,
            "right": null,
            "top": null,
            "visibility": null,
            "width": null
          }
        },
        "694f6dc0c608458d9519aa61da78d1e5": {
          "model_module": "@jupyter-widgets/controls",
          "model_name": "DescriptionStyleModel",
          "model_module_version": "1.5.0",
          "state": {
            "_model_module": "@jupyter-widgets/controls",
            "_model_module_version": "1.5.0",
            "_model_name": "DescriptionStyleModel",
            "_view_count": null,
            "_view_module": "@jupyter-widgets/base",
            "_view_module_version": "1.2.0",
            "_view_name": "StyleView",
            "description_width": ""
          }
        },
        "a073371119504999a44306816c1921e6": {
          "model_module": "@jupyter-widgets/base",
          "model_name": "LayoutModel",
          "model_module_version": "1.2.0",
          "state": {
            "_model_module": "@jupyter-widgets/base",
            "_model_module_version": "1.2.0",
            "_model_name": "LayoutModel",
            "_view_count": null,
            "_view_module": "@jupyter-widgets/base",
            "_view_module_version": "1.2.0",
            "_view_name": "LayoutView",
            "align_content": null,
            "align_items": null,
            "align_self": null,
            "border": null,
            "bottom": null,
            "display": null,
            "flex": null,
            "flex_flow": null,
            "grid_area": null,
            "grid_auto_columns": null,
            "grid_auto_flow": null,
            "grid_auto_rows": null,
            "grid_column": null,
            "grid_gap": null,
            "grid_row": null,
            "grid_template_areas": null,
            "grid_template_columns": null,
            "grid_template_rows": null,
            "height": null,
            "justify_content": null,
            "justify_items": null,
            "left": null,
            "margin": null,
            "max_height": null,
            "max_width": null,
            "min_height": null,
            "min_width": null,
            "object_fit": null,
            "object_position": null,
            "order": null,
            "overflow": null,
            "overflow_x": null,
            "overflow_y": null,
            "padding": null,
            "right": null,
            "top": null,
            "visibility": null,
            "width": null
          }
        },
        "c0e010c082fc4103ae33d4085a2c0498": {
          "model_module": "@jupyter-widgets/controls",
          "model_name": "ProgressStyleModel",
          "model_module_version": "1.5.0",
          "state": {
            "_model_module": "@jupyter-widgets/controls",
            "_model_module_version": "1.5.0",
            "_model_name": "ProgressStyleModel",
            "_view_count": null,
            "_view_module": "@jupyter-widgets/base",
            "_view_module_version": "1.2.0",
            "_view_name": "StyleView",
            "bar_color": null,
            "description_width": ""
          }
        },
        "20c4d40b050743a79f07b8cc94eb5e0e": {
          "model_module": "@jupyter-widgets/base",
          "model_name": "LayoutModel",
          "model_module_version": "1.2.0",
          "state": {
            "_model_module": "@jupyter-widgets/base",
            "_model_module_version": "1.2.0",
            "_model_name": "LayoutModel",
            "_view_count": null,
            "_view_module": "@jupyter-widgets/base",
            "_view_module_version": "1.2.0",
            "_view_name": "LayoutView",
            "align_content": null,
            "align_items": null,
            "align_self": null,
            "border": null,
            "bottom": null,
            "display": null,
            "flex": null,
            "flex_flow": null,
            "grid_area": null,
            "grid_auto_columns": null,
            "grid_auto_flow": null,
            "grid_auto_rows": null,
            "grid_column": null,
            "grid_gap": null,
            "grid_row": null,
            "grid_template_areas": null,
            "grid_template_columns": null,
            "grid_template_rows": null,
            "height": null,
            "justify_content": null,
            "justify_items": null,
            "left": null,
            "margin": null,
            "max_height": null,
            "max_width": null,
            "min_height": null,
            "min_width": null,
            "object_fit": null,
            "object_position": null,
            "order": null,
            "overflow": null,
            "overflow_x": null,
            "overflow_y": null,
            "padding": null,
            "right": null,
            "top": null,
            "visibility": null,
            "width": null
          }
        },
        "3aa35cbdb5a343a4b252dee642599f2d": {
          "model_module": "@jupyter-widgets/controls",
          "model_name": "DescriptionStyleModel",
          "model_module_version": "1.5.0",
          "state": {
            "_model_module": "@jupyter-widgets/controls",
            "_model_module_version": "1.5.0",
            "_model_name": "DescriptionStyleModel",
            "_view_count": null,
            "_view_module": "@jupyter-widgets/base",
            "_view_module_version": "1.2.0",
            "_view_name": "StyleView",
            "description_width": ""
          }
        }
      }
    }
  },
  "nbformat": 4,
  "nbformat_minor": 0
}