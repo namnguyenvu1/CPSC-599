{
  "cells": [
    {
      "cell_type": "markdown",
      "metadata": {
        "id": "3X8pD8hoJKkp"
      },
      "source": [
        "# **Working with NLTK**\n",
        "\n",
        "NLTK stands for the Natural Language Toolkit and is written by two  computational linguists, Steven Bird (Senior Research Associate of the LDC and professor at the University of Melbourne) and Ewan Klein (Professor of Linguistics at Edinburgh University).\n"
      ]
    },
    {
      "cell_type": "code",
      "execution_count": 1,
      "metadata": {
        "id": "s-btBeF4puKs",
        "colab": {
          "base_uri": "https://localhost:8080/"
        },
        "outputId": "edbbfd85-f7e9-4462-8717-b698a334cef5"
      },
      "outputs": [
        {
          "output_type": "stream",
          "name": "stdout",
          "text": [
            "Requirement already satisfied: numpy in /usr/local/lib/python3.10/dist-packages (1.23.5)\n",
            "Requirement already satisfied: nltk in /usr/local/lib/python3.10/dist-packages (3.8.1)\n",
            "Requirement already satisfied: click in /usr/local/lib/python3.10/dist-packages (from nltk) (8.1.7)\n",
            "Requirement already satisfied: joblib in /usr/local/lib/python3.10/dist-packages (from nltk) (1.3.2)\n",
            "Requirement already satisfied: regex>=2021.8.3 in /usr/local/lib/python3.10/dist-packages (from nltk) (2023.6.3)\n",
            "Requirement already satisfied: tqdm in /usr/local/lib/python3.10/dist-packages (from nltk) (4.66.1)\n"
          ]
        }
      ],
      "source": [
        "#Instalation (if not already installed)\n",
        "\n",
        "!pip install numpy\n",
        "!pip install nltk"
      ]
    },
    {
      "cell_type": "markdown",
      "metadata": {
        "id": "ZQY_eg-3PZ6T"
      },
      "source": [
        "The top-level library is called nltk and we can refer to the included modules by using their fully qualified dotted names, e.g. nltk.corpus and nltk.utilities. The contents of any such module can then be imported into the top-level namespace by using the standard \"from ... import ...\" construct in Python."
      ]
    },
    {
      "cell_type": "code",
      "execution_count": 3,
      "metadata": {
        "colab": {
          "base_uri": "https://localhost:8080/"
        },
        "id": "VfG9iFOBIuuc",
        "outputId": "46bcc898-13ad-41e2-85fd-ee14e6e77b26"
      },
      "outputs": [
        {
          "output_type": "stream",
          "name": "stderr",
          "text": [
            "[nltk_data] Downloading collection 'popular'\n",
            "[nltk_data]    | \n",
            "[nltk_data]    | Downloading package cmudict to /root/nltk_data...\n",
            "[nltk_data]    |   Package cmudict is already up-to-date!\n",
            "[nltk_data]    | Downloading package gazetteers to /root/nltk_data...\n",
            "[nltk_data]    |   Package gazetteers is already up-to-date!\n",
            "[nltk_data]    | Downloading package genesis to /root/nltk_data...\n",
            "[nltk_data]    |   Package genesis is already up-to-date!\n",
            "[nltk_data]    | Downloading package gutenberg to /root/nltk_data...\n",
            "[nltk_data]    |   Package gutenberg is already up-to-date!\n",
            "[nltk_data]    | Downloading package inaugural to /root/nltk_data...\n",
            "[nltk_data]    |   Package inaugural is already up-to-date!\n",
            "[nltk_data]    | Downloading package movie_reviews to\n",
            "[nltk_data]    |     /root/nltk_data...\n",
            "[nltk_data]    |   Package movie_reviews is already up-to-date!\n",
            "[nltk_data]    | Downloading package names to /root/nltk_data...\n",
            "[nltk_data]    |   Package names is already up-to-date!\n",
            "[nltk_data]    | Downloading package shakespeare to /root/nltk_data...\n",
            "[nltk_data]    |   Package shakespeare is already up-to-date!\n",
            "[nltk_data]    | Downloading package stopwords to /root/nltk_data...\n",
            "[nltk_data]    |   Package stopwords is already up-to-date!\n",
            "[nltk_data]    | Downloading package treebank to /root/nltk_data...\n",
            "[nltk_data]    |   Package treebank is already up-to-date!\n",
            "[nltk_data]    | Downloading package twitter_samples to\n",
            "[nltk_data]    |     /root/nltk_data...\n",
            "[nltk_data]    |   Package twitter_samples is already up-to-date!\n",
            "[nltk_data]    | Downloading package omw to /root/nltk_data...\n",
            "[nltk_data]    |   Package omw is already up-to-date!\n",
            "[nltk_data]    | Downloading package omw-1.4 to /root/nltk_data...\n",
            "[nltk_data]    |   Package omw-1.4 is already up-to-date!\n",
            "[nltk_data]    | Downloading package wordnet to /root/nltk_data...\n",
            "[nltk_data]    |   Package wordnet is already up-to-date!\n",
            "[nltk_data]    | Downloading package wordnet2021 to /root/nltk_data...\n",
            "[nltk_data]    |   Package wordnet2021 is already up-to-date!\n",
            "[nltk_data]    | Downloading package wordnet31 to /root/nltk_data...\n",
            "[nltk_data]    |   Package wordnet31 is already up-to-date!\n",
            "[nltk_data]    | Downloading package wordnet_ic to /root/nltk_data...\n",
            "[nltk_data]    |   Package wordnet_ic is already up-to-date!\n",
            "[nltk_data]    | Downloading package words to /root/nltk_data...\n",
            "[nltk_data]    |   Package words is already up-to-date!\n",
            "[nltk_data]    | Downloading package maxent_ne_chunker to\n",
            "[nltk_data]    |     /root/nltk_data...\n",
            "[nltk_data]    |   Package maxent_ne_chunker is already up-to-date!\n",
            "[nltk_data]    | Downloading package punkt to /root/nltk_data...\n",
            "[nltk_data]    |   Package punkt is already up-to-date!\n",
            "[nltk_data]    | Downloading package snowball_data to\n",
            "[nltk_data]    |     /root/nltk_data...\n",
            "[nltk_data]    |   Package snowball_data is already up-to-date!\n",
            "[nltk_data]    | Downloading package averaged_perceptron_tagger to\n",
            "[nltk_data]    |     /root/nltk_data...\n",
            "[nltk_data]    |   Package averaged_perceptron_tagger is already up-\n",
            "[nltk_data]    |       to-date!\n",
            "[nltk_data]    | \n",
            "[nltk_data]  Done downloading collection popular\n"
          ]
        },
        {
          "output_type": "execute_result",
          "data": {
            "text/plain": [
              "True"
            ]
          },
          "metadata": {},
          "execution_count": 3
        }
      ],
      "source": [
        "import nltk\n",
        "\n",
        "# A new window should open, showing the NLTK Downloader. Downloading everything\n",
        "# may take a while. For now, we will just download the popular packages.\n",
        "nltk.download(\"popular\")\n",
        "\n",
        "# You can also download everything with\n",
        "# nltk.download('all')\n",
        "\n",
        "# or you can download specific parts of nltk\n",
        "# nltk.download(\"abc\")"
      ]
    },
    {
      "cell_type": "markdown",
      "metadata": {
        "id": "D4hMtTF9Jxvf"
      },
      "source": [
        "## **Using and Exploring the Built-in Corpuses**\n",
        "\n",
        "We have currently downloaded the most popular corpuses in NLTK so lets take a look at one. If you want to view a list of options you can run the code below which will loop through the corpuses in nltk.corpus and print there names."
      ]
    },
    {
      "cell_type": "code",
      "execution_count": 12,
      "metadata": {
        "colab": {
          "base_uri": "https://localhost:8080/"
        },
        "id": "H2mIL_WoOFa-",
        "outputId": "00071e33-1f5f-41e8-b524-c1fa38f56eaa"
      },
      "outputs": [
        {
          "output_type": "stream",
          "name": "stdout",
          "text": [
            "AlignedCorpusReader\n",
            "AlpinoCorpusReader\n",
            "BCP47CorpusReader\n",
            "BNCCorpusReader\n",
            "BracketParseCorpusReader\n",
            "CHILDESCorpusReader\n",
            "CMUDictCorpusReader\n",
            "CategorizedBracketParseCorpusReader\n",
            "CategorizedCorpusReader\n",
            "CategorizedPlaintextCorpusReader\n",
            "CategorizedSentencesCorpusReader\n",
            "CategorizedTaggedCorpusReader\n",
            "ChasenCorpusReader\n",
            "ChunkedCorpusReader\n",
            "ComparativeSentencesCorpusReader\n",
            "ConllChunkCorpusReader\n",
            "ConllCorpusReader\n",
            "CorpusReader\n",
            "CrubadanCorpusReader\n",
            "DependencyCorpusReader\n",
            "EuroparlCorpusReader\n",
            "FramenetCorpusReader\n",
            "IEERCorpusReader\n",
            "IPIPANCorpusReader\n",
            "IndianCorpusReader\n",
            "KNBCorpusReader\n",
            "LazyCorpusLoader\n",
            "LinThesaurusCorpusReader\n",
            "MTECorpusReader\n",
            "MWAPPDBCorpusReader\n",
            "MacMorphoCorpusReader\n",
            "NKJPCorpusReader\n",
            "NPSChatCorpusReader\n",
            "NombankCorpusReader\n",
            "NonbreakingPrefixesCorpusReader\n",
            "OpinionLexiconCorpusReader\n",
            "PPAttachmentCorpusReader\n",
            "PanLexLiteCorpusReader\n",
            "PanlexSwadeshCorpusReader\n",
            "Pl196xCorpusReader\n",
            "PlaintextCorpusReader\n",
            "PortugueseCategorizedPlaintextCorpusReader\n",
            "PropbankCorpusReader\n",
            "ProsConsCorpusReader\n",
            "RTECorpusReader\n",
            "RegexpTokenizer\n",
            "ReviewsCorpusReader\n",
            "SemcorCorpusReader\n",
            "SensevalCorpusReader\n",
            "SentiSynset\n",
            "SentiWordNetCorpusReader\n",
            "SinicaTreebankCorpusReader\n",
            "StringCategoryCorpusReader\n",
            "SwadeshCorpusReader\n",
            "SwitchboardCorpusReader\n",
            "SyntaxCorpusReader\n",
            "TEICorpusView\n",
            "TaggedCorpusReader\n",
            "TimitCorpusReader\n",
            "TimitTaggedCorpusReader\n",
            "ToolboxCorpusReader\n",
            "TwitterCorpusReader\n",
            "UdhrCorpusReader\n",
            "UnicharsCorpusReader\n",
            "VerbnetCorpusReader\n",
            "WordListCorpusReader\n",
            "WordNetCorpusReader\n",
            "WordNetICCorpusReader\n",
            "XMLCorpusReader\n",
            "YCOECorpusReader\n",
            "abc\n",
            "alpino\n",
            "bcp47\n",
            "brown\n",
            "cess_cat\n",
            "cess_esp\n",
            "cmudict\n",
            "comparative_sentences\n",
            "comtrans\n",
            "conll2000\n",
            "conll2002\n",
            "conll2007\n",
            "crubadan\n",
            "demo\n",
            "dependency_treebank\n",
            "extended_omw\n",
            "find_corpus_fileids\n",
            "floresta\n",
            "framenet\n",
            "framenet15\n",
            "gazetteers\n",
            "genesis\n",
            "gutenberg\n",
            "ieer\n",
            "inaugural\n",
            "indian\n",
            "jeita\n",
            "knbc\n",
            "lin_thesaurus\n",
            "mac_morpho\n",
            "machado\n",
            "masc_tagged\n",
            "movie_reviews\n",
            "multext_east\n",
            "names\n",
            "nombank\n",
            "nombank_ptb\n",
            "nonbreaking_prefixes\n",
            "nps_chat\n",
            "opinion_lexicon\n",
            "perluniprops\n",
            "ppattach\n",
            "product_reviews_1\n",
            "product_reviews_2\n",
            "propbank\n",
            "propbank_ptb\n",
            "pros_cons\n",
            "ptb\n",
            "qc\n",
            "re\n",
            "reader\n",
            "reuters\n",
            "rte\n",
            "semcor\n",
            "senseval\n",
            "sentence_polarity\n",
            "sentiwordnet\n",
            "shakespeare\n",
            "sinica_treebank\n",
            "state_union\n",
            "stopwords\n",
            "subjectivity\n",
            "swadesh\n",
            "swadesh110\n",
            "swadesh207\n",
            "switchboard\n",
            "tagged_treebank_para_block_reader\n",
            "timit\n",
            "timit_tagged\n",
            "toolbox\n",
            "treebank\n",
            "treebank_chunk\n",
            "treebank_raw\n",
            "twitter_samples\n",
            "udhr\n",
            "udhr2\n",
            "universal_treebanks\n",
            "util\n",
            "verbnet\n",
            "webtext\n",
            "wordnet\n",
            "wordnet2021\n",
            "wordnet31\n",
            "wordnet_ic\n",
            "words\n"
          ]
        }
      ],
      "source": [
        "# Lists the various corpora and CorpusReader classes in the nltk.corpus module\n",
        "import nltk.corpus\n",
        "for name in dir(nltk.corpus):\n",
        "  if not name.startswith('_'):\n",
        "    print(name)"
      ]
    },
    {
      "cell_type": "markdown",
      "metadata": {
        "id": "JjQ2NeWCQlz5"
      },
      "source": [
        "For a specific corpus, list the fileids that are available."
      ]
    },
    {
      "cell_type": "code",
      "execution_count": 13,
      "metadata": {
        "colab": {
          "base_uri": "https://localhost:8080/"
        },
        "id": "8wzhUfpOQmVm",
        "outputId": "ffd1727c-6b74-4c65-8d86-1d94f19a0f29"
      },
      "outputs": [
        {
          "output_type": "stream",
          "name": "stdout",
          "text": [
            "['austen-emma.txt', 'austen-persuasion.txt', 'austen-sense.txt', 'bible-kjv.txt', 'blake-poems.txt', 'bryant-stories.txt', 'burgess-busterbrown.txt', 'carroll-alice.txt', 'chesterton-ball.txt', 'chesterton-brown.txt', 'chesterton-thursday.txt', 'edgeworth-parents.txt', 'melville-moby_dick.txt', 'milton-paradise.txt', 'shakespeare-caesar.txt', 'shakespeare-hamlet.txt', 'shakespeare-macbeth.txt', 'whitman-leaves.txt']\n"
          ]
        }
      ],
      "source": [
        "print(nltk.corpus.gutenberg.fileids())"
      ]
    },
    {
      "cell_type": "markdown",
      "metadata": {
        "id": "C14mvdonTFRj"
      },
      "source": [
        "**Exercise:** Explore some of the [Corpus Reader Functions](https://www.nltk.org/api/nltk.corpus.reader.html) using one of the files in the Gutenberg corpus."
      ]
    },
    {
      "cell_type": "code",
      "execution_count": 15,
      "metadata": {
        "colab": {
          "base_uri": "https://localhost:8080/"
        },
        "id": "0Jo4ksHQTe1q",
        "outputId": "d4058677-6684-48aa-b312-d7c5cda8194d"
      },
      "outputs": [
        {
          "output_type": "stream",
          "name": "stdout",
          "text": [
            "['[', 'Sense', 'and', 'Sensibility', 'by', 'Jane', ...]\n"
          ]
        }
      ],
      "source": [
        "from nltk.corpus import gutenberg\n",
        "\n",
        "austen_words = gutenberg.words('austen-sense.txt')\n",
        "print(austen_words)"
      ]
    },
    {
      "cell_type": "markdown",
      "metadata": {
        "id": "rBTUWnJXVOa9"
      },
      "source": [
        "Is this a list? Check the type of gutenberg.words('austen-sense.txt')."
      ]
    },
    {
      "cell_type": "code",
      "source": [
        "print(type(austen_words))"
      ],
      "metadata": {
        "colab": {
          "base_uri": "https://localhost:8080/"
        },
        "id": "UQ0D8uhu0FA0",
        "outputId": "10a11bed-553f-4175-956d-127adadf892b"
      },
      "execution_count": 17,
      "outputs": [
        {
          "output_type": "stream",
          "name": "stdout",
          "text": [
            "<class 'nltk.corpus.reader.util.StreamBackedCorpusView'>\n"
          ]
        }
      ]
    },
    {
      "cell_type": "markdown",
      "metadata": {
        "id": "7fgUcpxtODno"
      },
      "source": [
        "Some preprocessing steps do not require the use of a library like nltk and use simple string operations such as making all characters in a string lowercase or removing punctuation."
      ]
    },
    {
      "cell_type": "markdown",
      "metadata": {
        "id": "3xtjwcQbM6rN"
      },
      "source": [
        "### **Making Lowercase**"
      ]
    },
    {
      "cell_type": "code",
      "execution_count": 20,
      "metadata": {
        "colab": {
          "base_uri": "https://localhost:8080/"
        },
        "id": "jcZ75JrTJrr4",
        "outputId": "44778375-d5a1-4e63-ae95-ae574cc6f72b"
      },
      "outputs": [
        {
          "output_type": "stream",
          "name": "stdout",
          "text": [
            "th!s sh0uld b3 l0w3rcas3!\n"
          ]
        }
      ],
      "source": [
        "import string\n",
        "\n",
        "text = \"Th!s Sh0uLd B3 L0w3rCas3!\"\n",
        "text = text.lower()\n",
        "print(text)"
      ]
    },
    {
      "cell_type": "markdown",
      "metadata": {
        "id": "qlZIlR5gNiSJ"
      },
      "source": [
        "### **Removing Punctuation**"
      ]
    },
    {
      "cell_type": "code",
      "execution_count": 21,
      "metadata": {
        "colab": {
          "base_uri": "https://localhost:8080/"
        },
        "id": "SWzNyD7QNm97",
        "outputId": "bdaf61c7-33aa-4692-da5e-bb5390ab7afd"
      },
      "outputs": [
        {
          "output_type": "stream",
          "name": "stdout",
          "text": [
            "!\"#$%&'()*+,-./:;<=>?@[\\]^_`{|}~\n",
            "ths sh0uld b3 l0w3rcas3\n"
          ]
        }
      ],
      "source": [
        "print(string.punctuation)\n",
        "\n",
        "text_p = \"\".join([char for char in text if char not in string.punctuation])\n",
        "print(text_p)"
      ]
    },
    {
      "cell_type": "markdown",
      "metadata": {
        "id": "7Mo8RvNny4eb"
      },
      "source": [
        "### **Removing Digits**"
      ]
    },
    {
      "cell_type": "code",
      "execution_count": 22,
      "metadata": {
        "colab": {
          "base_uri": "https://localhost:8080/"
        },
        "id": "VILaboYsy9dy",
        "outputId": "021f6398-6a1a-4c6d-80b1-f9c06aea13ab"
      },
      "outputs": [
        {
          "output_type": "stream",
          "name": "stdout",
          "text": [
            "ths shuld b lwrcas\n"
          ]
        }
      ],
      "source": [
        "#removing digits in the corpus\n",
        "import re\n",
        "text_d = re.sub(r'\\d+','', text_p)\n",
        "print(text_d)"
      ]
    },
    {
      "cell_type": "markdown",
      "metadata": {
        "id": "jM17FuZVV9Ut"
      },
      "source": [
        "## **Tokenization**"
      ]
    },
    {
      "cell_type": "code",
      "execution_count": 26,
      "metadata": {
        "id": "n8VMIZVqXk90"
      },
      "outputs": [],
      "source": [
        "from nltk.tokenize import sent_tokenize, word_tokenize\n",
        "\n",
        "text_1883 = \"I remember the first time I saw it. I heard a thousand stories… But none could describe this place. It must be witnessed to be understood. And yet, I’ve seen it. And I understand it less than when I first cast eyes on this place.\"\n",
        "\n",
        "sentences = sent_tokenize(text_1883)\n",
        "tokens = word_tokenize(text_1883)\n"
      ]
    },
    {
      "cell_type": "code",
      "execution_count": 27,
      "metadata": {
        "colab": {
          "base_uri": "https://localhost:8080/"
        },
        "id": "yO7gjXB3X43I",
        "outputId": "1cee32d4-0c1c-49e0-b319-3d4b81e87283"
      },
      "outputs": [
        {
          "output_type": "stream",
          "name": "stdout",
          "text": [
            "['I remember the first time I saw it.', 'I heard a thousand stories… But none could describe this place.', 'It must be witnessed to be understood.', 'And yet, I’ve seen it.', 'And I understand it less than when I first cast eyes on this place.']\n"
          ]
        }
      ],
      "source": [
        "print(sentences)"
      ]
    },
    {
      "cell_type": "code",
      "execution_count": 28,
      "metadata": {
        "colab": {
          "base_uri": "https://localhost:8080/"
        },
        "id": "IZXGVJNXYGV4",
        "outputId": "9d98a57f-4611-4f2e-8941-bf048fa8d2c2"
      },
      "outputs": [
        {
          "output_type": "stream",
          "name": "stdout",
          "text": [
            "['I', 'remember', 'the', 'first', 'time', 'I', 'saw', 'it', '.', 'I', 'heard', 'a', 'thousand', 'stories…', 'But', 'none', 'could', 'describe', 'this', 'place', '.', 'It', 'must', 'be', 'witnessed', 'to', 'be', 'understood', '.', 'And', 'yet', ',', 'I', '’', 've', 'seen', 'it', '.', 'And', 'I', 'understand', 'it', 'less', 'than', 'when', 'I', 'first', 'cast', 'eyes', 'on', 'this', 'place', '.']\n"
          ]
        }
      ],
      "source": [
        "print(tokens)"
      ]
    },
    {
      "cell_type": "markdown",
      "metadata": {
        "id": "lTKs6NlFOUeO"
      },
      "source": [
        "NLTK also includes a tweet corpus. Let's compare what the results look like if we tokenize a tweet with a standard word tokenizer vs a tweet tokenizer."
      ]
    },
    {
      "cell_type": "code",
      "execution_count": 29,
      "metadata": {
        "colab": {
          "base_uri": "https://localhost:8080/"
        },
        "id": "B3_9SYsEV3bE",
        "outputId": "ca47cd14-067d-49a3-a5a4-e54b900331aa"
      },
      "outputs": [
        {
          "output_type": "stream",
          "name": "stdout",
          "text": [
            "#FollowFriday @France_Inte @PKuchly57 @Milipol_Paris for being top engaged members in my community this week :)\n"
          ]
        }
      ],
      "source": [
        "from nltk.corpus import twitter_samples\n",
        "from nltk.tokenize import TweetTokenizer\n",
        "\n",
        "# strip_handles=True, reduce_len=True\n",
        "twt_tokenizer = tweet_tokenizer = TweetTokenizer()\n",
        "tweet = twitter_samples.strings(\"positive_tweets.json\")[0]\n",
        "print(tweet)"
      ]
    },
    {
      "cell_type": "code",
      "execution_count": 30,
      "metadata": {
        "colab": {
          "base_uri": "https://localhost:8080/"
        },
        "id": "if5QF5ZaYZHN",
        "outputId": "e705a664-d8d9-4210-b53c-22627087cafa"
      },
      "outputs": [
        {
          "output_type": "stream",
          "name": "stdout",
          "text": [
            "['#FollowFriday', '@France_Inte', '@PKuchly57', '@Milipol_Paris', 'for', 'being', 'top', 'engaged', 'members', 'in', 'my', 'community', 'this', 'week', ':)']\n"
          ]
        }
      ],
      "source": [
        "print(twt_tokenizer.tokenize(tweet))"
      ]
    },
    {
      "cell_type": "markdown",
      "metadata": {
        "id": "kZdCnSWSYhQk"
      },
      "source": [
        "What happens when we use the regular word tokenizer?"
      ]
    },
    {
      "cell_type": "code",
      "execution_count": 66,
      "metadata": {
        "id": "TFN6KE7eYlGW"
      },
      "outputs": [],
      "source": []
    },
    {
      "cell_type": "markdown",
      "metadata": {
        "id": "ZKrKJbHwNLWN"
      },
      "source": [
        "## **Removing stopwords**\n"
      ]
    },
    {
      "cell_type": "code",
      "source": [
        "# How do we access possible stopwords?\n",
        "nltk.download('stopwords')\n",
        "from nltk.corpus import stopwords\n",
        "\n",
        "stop_words = stopwords.words(\"english\")\n",
        "\n",
        "text = \"This is a sample text with some stop words.\"\n",
        "words = word_tokenize(text)\n",
        "\n",
        "filtered_words = [w for w in words if w.lower() not in stop_words]\n",
        "print(filtered_words)"
      ],
      "metadata": {
        "colab": {
          "base_uri": "https://localhost:8080/"
        },
        "id": "shfFjLrn1j_c",
        "outputId": "46ffdb6a-3492-4121-897f-e0ee95a5d398"
      },
      "execution_count": 67,
      "outputs": [
        {
          "output_type": "stream",
          "name": "stdout",
          "text": [
            "['sample', 'text', 'stop', 'words', '.']\n"
          ]
        },
        {
          "output_type": "stream",
          "name": "stderr",
          "text": [
            "[nltk_data] Downloading package stopwords to /root/nltk_data...\n",
            "[nltk_data]   Package stopwords is already up-to-date!\n"
          ]
        }
      ]
    },
    {
      "cell_type": "markdown",
      "source": [
        "Remove all of the stopwords in the austen-sense.txt file."
      ],
      "metadata": {
        "id": "XVX2ZneM1pWd"
      }
    },
    {
      "cell_type": "code",
      "execution_count": 67,
      "metadata": {
        "id": "D4LOiM4ROTMw"
      },
      "outputs": [],
      "source": [
        "\n"
      ]
    },
    {
      "cell_type": "markdown",
      "metadata": {
        "id": "RvuwFryBFGG5"
      },
      "source": [
        "## **Stemming**"
      ]
    },
    {
      "cell_type": "code",
      "execution_count": 34,
      "metadata": {
        "colab": {
          "base_uri": "https://localhost:8080/"
        },
        "id": "Qno2A8V-O-kK",
        "outputId": "12d5db76-549f-4f53-eaf1-de8be0535d7b"
      },
      "outputs": [
        {
          "output_type": "stream",
          "name": "stdout",
          "text": [
            "Before Stemming:\n",
            "It must be witnessed to be understood.\n"
          ]
        }
      ],
      "source": [
        "from nltk.stem.porter import PorterStemmer\n",
        "\n",
        "#words = [\"program\", \"programs\", \"programmer\", \"programming\", \"programmers\"]\n",
        "\n",
        "print(\"Before Stemming:\")\n",
        "print(sentences[2])\n"
      ]
    },
    {
      "cell_type": "code",
      "execution_count": 35,
      "metadata": {
        "colab": {
          "base_uri": "https://localhost:8080/"
        },
        "id": "Ui51Lk_b7Cuv",
        "outputId": "8cae629c-3579-4c30-953c-7abc19c59b02"
      },
      "outputs": [
        {
          "output_type": "stream",
          "name": "stdout",
          "text": [
            ".\n",
            "it\n",
            "must\n",
            "be\n",
            "wit\n",
            "to\n",
            "be\n",
            "understood\n",
            ".\n",
            "and\n",
            "yet\n",
            ",\n",
            "i\n",
            "’\n",
            "ve\n",
            "seen\n",
            "it\n",
            ".\n",
            "and\n",
            "i\n",
            "understand\n",
            "it\n",
            "less\n",
            "than\n",
            "when\n",
            "i\n",
            "first\n",
            "cast\n",
            "eye\n",
            "on\n"
          ]
        }
      ],
      "source": [
        "porter = PorterStemmer()\n",
        "\n",
        "for word in tokens[20:50]:\n",
        "  print(porter.stem(word))"
      ]
    },
    {
      "cell_type": "markdown",
      "metadata": {
        "id": "IdtNpegVMTnR"
      },
      "source": [
        "**Exercise:** Try using the other stemmers and compare."
      ]
    },
    {
      "cell_type": "code",
      "execution_count": 36,
      "metadata": {
        "id": "74PnMq257Fas"
      },
      "outputs": [],
      "source": [
        "from nltk.stem.snowball import SnowballStemmer\n",
        "from nltk.stem.lancaster import LancasterStemmer\n",
        "\n",
        "stemmer = SnowballStemmer(\"english\")"
      ]
    },
    {
      "cell_type": "markdown",
      "metadata": {
        "id": "WJ2ffPph4wi9"
      },
      "source": [
        "## **Word Senses and Semantics**"
      ]
    },
    {
      "cell_type": "markdown",
      "metadata": {
        "id": "MVoV4TNKPI1c"
      },
      "source": [
        "We also have access to Wordnet through nltk though loading the load the WordNet corpus takes a bit of time. WordNet, a long­running lexical resource project from Princeton University, aims to catalog the senses of most words in the English language, along with other lexical relationships. Word senses can also be induced from the context—automatic discovery of word senses from text was actually the first place semi­supervised learning was applied to NLP."
      ]
    },
    {
      "cell_type": "code",
      "execution_count": 37,
      "metadata": {
        "colab": {
          "base_uri": "https://localhost:8080/"
        },
        "id": "IzAPgq-MPKa2",
        "outputId": "b2f69537-35a0-4772-dc22-90e77eebc8e3"
      },
      "outputs": [
        {
          "output_type": "stream",
          "name": "stdout",
          "text": [
            "[Synset('car.n.01'), Synset('car.n.02'), Synset('car.n.03'), Synset('car.n.04'), Synset('cable_car.n.01')]\n"
          ]
        }
      ],
      "source": [
        "from nltk.corpus import wordnet\n",
        "\n",
        "syns = wordnet.synsets(\"car\")\n",
        "print(syns)"
      ]
    },
    {
      "cell_type": "code",
      "execution_count": 38,
      "metadata": {
        "colab": {
          "base_uri": "https://localhost:8080/"
        },
        "id": "YaSQia17e0zN",
        "outputId": "e84843c9-efdc-457b-f076-2d3f6d960a38"
      },
      "outputs": [
        {
          "output_type": "stream",
          "name": "stdout",
          "text": [
            "car\n",
            "a wheeled vehicle adapted to the rails of railroad\n"
          ]
        }
      ],
      "source": [
        "print(syns[0].lemmas()[0].name())\n",
        "print(syns[1].definition())"
      ]
    },
    {
      "cell_type": "code",
      "execution_count": 41,
      "metadata": {
        "id": "tdS4-uSVfp2n",
        "colab": {
          "base_uri": "https://localhost:8080/"
        },
        "outputId": "f1283eec-6116-416f-ff36-2c8c83b7fac6"
      },
      "outputs": [
        {
          "output_type": "stream",
          "name": "stdout",
          "text": [
            "Synset: car.n.01\n",
            "Examples: ['he needs a car to get to work']\n",
            "Synset: car.n.02\n",
            "Examples: ['three cars had jumped the rails']\n",
            "Synset: car.n.03\n",
            "Examples: []\n",
            "Synset: car.n.04\n",
            "Examples: ['the car was on the top floor']\n",
            "Synset: cable_car.n.01\n",
            "Examples: ['they took a cable car to the top of the mountain']\n"
          ]
        }
      ],
      "source": [
        "# get examples of each synset\n",
        "for synset in syns:\n",
        "    print(f\"Synset: {synset.name()}\")\n",
        "    print(f\"Examples: {synset.examples()}\")"
      ]
    },
    {
      "cell_type": "code",
      "execution_count": 39,
      "metadata": {
        "colab": {
          "base_uri": "https://localhost:8080/"
        },
        "id": "FA82WV7UeFja",
        "outputId": "509b1276-9ab8-4a70-e079-ca29300fd327"
      },
      "outputs": [
        {
          "output_type": "stream",
          "name": "stdout",
          "text": [
            "0.3076923076923077\n"
          ]
        }
      ],
      "source": [
        "w1 = wordnet.synset('horse.n.01')\n",
        "w2 = wordnet.synset('car.n.01')\n",
        "print(w1.wup_similarity(w2))"
      ]
    },
    {
      "cell_type": "code",
      "execution_count": 40,
      "metadata": {
        "colab": {
          "base_uri": "https://localhost:8080/"
        },
        "id": "G3jNU-pjas7a",
        "outputId": "90c2e454-8757-4412-ec87-757115cba0f3"
      },
      "outputs": [
        {
          "output_type": "stream",
          "name": "stdout",
          "text": [
            "horses : horse\n",
            "corpora : corpus\n",
            "better : good\n"
          ]
        }
      ],
      "source": [
        "from nltk.stem import WordNetLemmatizer\n",
        "\n",
        "lemmatizer = WordNetLemmatizer()\n",
        "print(\"horses :\", lemmatizer.lemmatize(\"horses\"))\n",
        "print(\"corpora :\", lemmatizer.lemmatize(\"corpora\"))\n",
        "\n",
        "# optional pos argument which lets you constrain the part of speech of the word\n",
        "# a denotes adjective in \"pos\"\n",
        "print(\"better :\", lemmatizer.lemmatize(\"better\", pos =\"a\"))"
      ]
    },
    {
      "cell_type": "markdown",
      "metadata": {
        "id": "iLYmKbG2gHnY"
      },
      "source": [
        "[More sample usage for wordnet](https://www.nltk.org/howto/wordnet.html) in the NLTK documentation."
      ]
    },
    {
      "cell_type": "markdown",
      "metadata": {
        "id": "nGLOVqkLT2Kn"
      },
      "source": [
        "## POS Tagging and Chunking\n",
        "\n",
        "Chunk rules are defined in terms of regular expression patterns over \"tag strings.\" A tag string is a string consisting of tags, delimited with angle-brackets. Part of speech tags are denoted with the \"<\" and \">\" and we can also place regular expressions within the tags themselves, so account for things like \"all nouns\" (<N.*>)."
      ]
    },
    {
      "cell_type": "code",
      "execution_count": 64,
      "metadata": {
        "id": "3-X8O1xNTNr1"
      },
      "outputs": [],
      "source": [
        "from nltk.chunk import RegexpParser\n",
        "from nltk import pos_tag\n",
        "from nltk.corpus import brown\n",
        "from nltk.tag import UnigramTagger\n",
        "\n",
        "# Define a grammar for chunking, Note that tag strings do not contain any whitespace.\n",
        "grammar = r\"\"\"\n",
        "    NP: {<DT>?<JJ>*<NN>*} # determiner, adjective, and noun\n",
        "\"\"\""
      ]
    },
    {
      "cell_type": "markdown",
      "metadata": {
        "id": "BQ5Zl6sjb_nE"
      },
      "source": [
        "( . ) Any character except new line\n",
        "\n",
        "( * ) Match 0 or more repetitions\n",
        "\n",
        "( + ) Match 1 or more repetitions\n",
        "\n",
        "( ? ) Match 0 or 1 repetitions"
      ]
    },
    {
      "cell_type": "code",
      "execution_count": 65,
      "metadata": {
        "colab": {
          "base_uri": "https://localhost:8080/"
        },
        "id": "up_z8GktaBmw",
        "outputId": "f2a21c5f-53b9-4824-94ca-81c0ff473ba5"
      },
      "outputs": [
        {
          "output_type": "stream",
          "name": "stdout",
          "text": [
            "[('The', 'AT'), ('quick', 'JJ'), ('brown', 'JJ'), ('fox', 'NN'), ('jumps', 'NNS'), ('over', 'IN'), ('the', 'AT'), ('lazy', 'JJ'), ('dog', 'NN'), ('.', '.')]\n"
          ]
        }
      ],
      "source": [
        "# Tokenize and part-of-speech tag the text\n",
        "import nltk\n",
        "text = \"The quick brown fox jumps over the lazy dog.\"\n",
        "tokens = nltk.word_tokenize(text)\n",
        "\n",
        "unigram_tagger = UnigramTagger(train=brown.tagged_sents())\n",
        "tags = unigram_tagger.tag(tokens)\n",
        "print(tags)"
      ]
    },
    {
      "cell_type": "code",
      "execution_count": 66,
      "metadata": {
        "colab": {
          "base_uri": "https://localhost:8080/"
        },
        "id": "Jz7D2vGsaElO",
        "outputId": "f05af9e4-a1d0-4c0c-9ae9-020bfe959133"
      },
      "outputs": [
        {
          "output_type": "stream",
          "name": "stdout",
          "text": [
            "(S\n",
            "  The/AT\n",
            "  (NP quick/JJ brown/JJ fox/NN)\n",
            "  jumps/NNS\n",
            "  over/IN\n",
            "  the/AT\n",
            "  (NP lazy/JJ dog/NN)\n",
            "  ./.)\n"
          ]
        }
      ],
      "source": [
        "# Create a RegexpParser object\n",
        "chunker = RegexpParser(grammar)\n",
        "# Use the RegexpParser object to chunk the text\n",
        "chunks = chunker.parse(tags)\n",
        "\n",
        "# Print the chunks\n",
        "print(chunks)"
      ]
    },
    {
      "cell_type": "markdown",
      "metadata": {
        "id": "KVAZyT5dcnxY"
      },
      "source": [
        "**Exercise:** Change the grammar to tag noun and adjectives and verb (present tense). Try using Unigram tagger and pos_tag. What is the difference?\n",
        "\n",
        "Hint: You can use nltk.help.upenn_tagset() to get a list of all the symbols used and what they mean for different tags."
      ]
    },
    {
      "cell_type": "code",
      "execution_count": 46,
      "metadata": {
        "colab": {
          "base_uri": "https://localhost:8080/"
        },
        "id": "6eLcP_9jg2Qh",
        "outputId": "734c04cc-ca3c-4a34-be23-909f46bc4778"
      },
      "outputs": [
        {
          "output_type": "stream",
          "name": "stdout",
          "text": [
            "$: dollar\n",
            "    $ -$ --$ A$ C$ HK$ M$ NZ$ S$ U.S.$ US$\n",
            "'': closing quotation mark\n",
            "    ' ''\n",
            "(: opening parenthesis\n",
            "    ( [ {\n",
            "): closing parenthesis\n",
            "    ) ] }\n",
            ",: comma\n",
            "    ,\n",
            "--: dash\n",
            "    --\n",
            ".: sentence terminator\n",
            "    . ! ?\n",
            ":: colon or ellipsis\n",
            "    : ; ...\n",
            "CC: conjunction, coordinating\n",
            "    & 'n and both but either et for less minus neither nor or plus so\n",
            "    therefore times v. versus vs. whether yet\n",
            "CD: numeral, cardinal\n",
            "    mid-1890 nine-thirty forty-two one-tenth ten million 0.5 one forty-\n",
            "    seven 1987 twenty '79 zero two 78-degrees eighty-four IX '60s .025\n",
            "    fifteen 271,124 dozen quintillion DM2,000 ...\n",
            "DT: determiner\n",
            "    all an another any both del each either every half la many much nary\n",
            "    neither no some such that the them these this those\n",
            "EX: existential there\n",
            "    there\n",
            "FW: foreign word\n",
            "    gemeinschaft hund ich jeux habeas Haementeria Herr K'ang-si vous\n",
            "    lutihaw alai je jour objets salutaris fille quibusdam pas trop Monte\n",
            "    terram fiche oui corporis ...\n",
            "IN: preposition or conjunction, subordinating\n",
            "    astride among uppon whether out inside pro despite on by throughout\n",
            "    below within for towards near behind atop around if like until below\n",
            "    next into if beside ...\n",
            "JJ: adjective or numeral, ordinal\n",
            "    third ill-mannered pre-war regrettable oiled calamitous first separable\n",
            "    ectoplasmic battery-powered participatory fourth still-to-be-named\n",
            "    multilingual multi-disciplinary ...\n",
            "JJR: adjective, comparative\n",
            "    bleaker braver breezier briefer brighter brisker broader bumper busier\n",
            "    calmer cheaper choosier cleaner clearer closer colder commoner costlier\n",
            "    cozier creamier crunchier cuter ...\n",
            "JJS: adjective, superlative\n",
            "    calmest cheapest choicest classiest cleanest clearest closest commonest\n",
            "    corniest costliest crassest creepiest crudest cutest darkest deadliest\n",
            "    dearest deepest densest dinkiest ...\n",
            "LS: list item marker\n",
            "    A A. B B. C C. D E F First G H I J K One SP-44001 SP-44002 SP-44005\n",
            "    SP-44007 Second Third Three Two * a b c d first five four one six three\n",
            "    two\n",
            "MD: modal auxiliary\n",
            "    can cannot could couldn't dare may might must need ought shall should\n",
            "    shouldn't will would\n",
            "NN: noun, common, singular or mass\n",
            "    common-carrier cabbage knuckle-duster Casino afghan shed thermostat\n",
            "    investment slide humour falloff slick wind hyena override subhumanity\n",
            "    machinist ...\n",
            "NNP: noun, proper, singular\n",
            "    Motown Venneboerger Czestochwa Ranzer Conchita Trumplane Christos\n",
            "    Oceanside Escobar Kreisler Sawyer Cougar Yvette Ervin ODI Darryl CTCA\n",
            "    Shannon A.K.C. Meltex Liverpool ...\n",
            "NNPS: noun, proper, plural\n",
            "    Americans Americas Amharas Amityvilles Amusements Anarcho-Syndicalists\n",
            "    Andalusians Andes Andruses Angels Animals Anthony Antilles Antiques\n",
            "    Apache Apaches Apocrypha ...\n",
            "NNS: noun, common, plural\n",
            "    undergraduates scotches bric-a-brac products bodyguards facets coasts\n",
            "    divestitures storehouses designs clubs fragrances averages\n",
            "    subjectivists apprehensions muses factory-jobs ...\n",
            "PDT: pre-determiner\n",
            "    all both half many quite such sure this\n",
            "POS: genitive marker\n",
            "    ' 's\n",
            "PRP: pronoun, personal\n",
            "    hers herself him himself hisself it itself me myself one oneself ours\n",
            "    ourselves ownself self she thee theirs them themselves they thou thy us\n",
            "PRP$: pronoun, possessive\n",
            "    her his mine my our ours their thy your\n",
            "RB: adverb\n",
            "    occasionally unabatingly maddeningly adventurously professedly\n",
            "    stirringly prominently technologically magisterially predominately\n",
            "    swiftly fiscally pitilessly ...\n",
            "RBR: adverb, comparative\n",
            "    further gloomier grander graver greater grimmer harder harsher\n",
            "    healthier heavier higher however larger later leaner lengthier less-\n",
            "    perfectly lesser lonelier longer louder lower more ...\n",
            "RBS: adverb, superlative\n",
            "    best biggest bluntest earliest farthest first furthest hardest\n",
            "    heartiest highest largest least less most nearest second tightest worst\n",
            "RP: particle\n",
            "    aboard about across along apart around aside at away back before behind\n",
            "    by crop down ever fast for forth from go high i.e. in into just later\n",
            "    low more off on open out over per pie raising start teeth that through\n",
            "    under unto up up-pp upon whole with you\n",
            "SYM: symbol\n",
            "    % & ' '' ''. ) ). * + ,. < = > @ A[fj] U.S U.S.S.R * ** ***\n",
            "TO: \"to\" as preposition or infinitive marker\n",
            "    to\n",
            "UH: interjection\n",
            "    Goodbye Goody Gosh Wow Jeepers Jee-sus Hubba Hey Kee-reist Oops amen\n",
            "    huh howdy uh dammit whammo shucks heck anyways whodunnit honey golly\n",
            "    man baby diddle hush sonuvabitch ...\n",
            "VB: verb, base form\n",
            "    ask assemble assess assign assume atone attention avoid bake balkanize\n",
            "    bank begin behold believe bend benefit bevel beware bless boil bomb\n",
            "    boost brace break bring broil brush build ...\n",
            "VBD: verb, past tense\n",
            "    dipped pleaded swiped regummed soaked tidied convened halted registered\n",
            "    cushioned exacted snubbed strode aimed adopted belied figgered\n",
            "    speculated wore appreciated contemplated ...\n",
            "VBG: verb, present participle or gerund\n",
            "    telegraphing stirring focusing angering judging stalling lactating\n",
            "    hankerin' alleging veering capping approaching traveling besieging\n",
            "    encrypting interrupting erasing wincing ...\n",
            "VBN: verb, past participle\n",
            "    multihulled dilapidated aerosolized chaired languished panelized used\n",
            "    experimented flourished imitated reunifed factored condensed sheared\n",
            "    unsettled primed dubbed desired ...\n",
            "VBP: verb, present tense, not 3rd person singular\n",
            "    predominate wrap resort sue twist spill cure lengthen brush terminate\n",
            "    appear tend stray glisten obtain comprise detest tease attract\n",
            "    emphasize mold postpone sever return wag ...\n",
            "VBZ: verb, present tense, 3rd person singular\n",
            "    bases reconstructs marks mixes displeases seals carps weaves snatches\n",
            "    slumps stretches authorizes smolders pictures emerges stockpiles\n",
            "    seduces fizzes uses bolsters slaps speaks pleads ...\n",
            "WDT: WH-determiner\n",
            "    that what whatever which whichever\n",
            "WP: WH-pronoun\n",
            "    that what whatever whatsoever which who whom whosoever\n",
            "WP$: WH-pronoun, possessive\n",
            "    whose\n",
            "WRB: Wh-adverb\n",
            "    how however whence whenever where whereby whereever wherein whereof why\n",
            "``: opening quotation mark\n",
            "    ` ``\n"
          ]
        },
        {
          "output_type": "stream",
          "name": "stderr",
          "text": [
            "[nltk_data] Downloading package tagsets to /root/nltk_data...\n",
            "[nltk_data]   Package tagsets is already up-to-date!\n"
          ]
        }
      ],
      "source": [
        "nltk.download(\"tagsets\")\n",
        "nltk.help.upenn_tagset()"
      ]
    },
    {
      "cell_type": "code",
      "source": [],
      "metadata": {
        "id": "hS92fmmhCpOi"
      },
      "execution_count": 67,
      "outputs": []
    },
    {
      "cell_type": "markdown",
      "metadata": {
        "id": "G457rlMUUZhz"
      },
      "source": [
        "## Frequency\n",
        "\n",
        "Get the top X most common words in a text/corpus. We will use Reuters corpus as an example."
      ]
    },
    {
      "cell_type": "code",
      "execution_count": 70,
      "metadata": {
        "id": "dQ0WN2kBUbbE"
      },
      "outputs": [],
      "source": [
        "# note you may have to download these corpuses\n",
        "\n",
        "from nltk.corpus import reuters, stopwords\n",
        "from nltk.probability import FreqDist\n",
        "\n",
        "# Get all the words in the corpus\n",
        "words = reuters.words()\n",
        "\n",
        "# continue..."
      ]
    },
    {
      "cell_type": "code",
      "execution_count": 69,
      "metadata": {
        "colab": {
          "base_uri": "https://localhost:8080/"
        },
        "id": "HaSUJSYNwHVV",
        "outputId": "1062f61c-0f62-4160-ca26-4c45b5e9760d"
      },
      "outputs": [
        {
          "output_type": "stream",
          "name": "stdout",
          "text": [
            "['ASIAN', 'EXPORTERS', 'FEAR', 'DAMAGE', 'FROM', 'U', 'S', 'JAPAN', 'RIFT', 'Mounting', 'trade', 'friction', 'between', 'the', 'U', 'S', 'And', 'Japan', 'has', 'raised', 'fears', 'among', 'many', 'of', 'Asia', 's', 'exporting', 'nations', 'that', 'the', 'row', 'could', 'inflict', 'far', 'reaching', 'economic', 'damage', 'businessmen', 'and', 'officials', 'said', 'They', 'told', 'Reuter', 'correspondents', 'in', 'Asian', 'capitals', 'a', 'U']\n"
          ]
        }
      ],
      "source": [
        "# punctuation removal for an entire corpus.\n",
        "import string\n",
        "from nltk.tokenize import word_tokenize\n",
        "\n",
        "words = reuters.words()\n",
        "\n",
        "reuters_corpus = [word for word in words if word.isalpha()]\n",
        "print(reuters_corpus[0:50])\n",
        "# try adding this functionality to the frequency function made above"
      ]
    }
  ],
  "metadata": {
    "colab": {
      "provenance": []
    },
    "kernelspec": {
      "display_name": "Python 3",
      "language": "python",
      "name": "python3"
    },
    "language_info": {
      "codemirror_mode": {
        "name": "ipython",
        "version": 3
      },
      "file_extension": ".py",
      "mimetype": "text/x-python",
      "name": "python",
      "nbconvert_exporter": "python",
      "pygments_lexer": "ipython3",
      "version": "3.8.8"
    }
  },
  "nbformat": 4,
  "nbformat_minor": 0
}